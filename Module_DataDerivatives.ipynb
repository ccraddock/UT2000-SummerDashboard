{
 "cells": [
  {
   "cell_type": "markdown",
   "metadata": {},
   "source": [
    "# Data Derivatives Module\n",
    "The purpose of this notebook is to act as a module that can be imported into the Master Notebook to derive certain features from raw data."
   ]
  },
  {
   "cell_type": "markdown",
   "metadata": {},
   "source": [
    "## Fine Particulate Matter (PM2.5) Derivatives\n",
    "Below are functions that derive the following features:\n",
    "1. Air Quality Index (AQI)"
   ]
  },
  {
   "cell_type": "markdown",
   "metadata": {},
   "source": [
    "### Air Quality Index\n",
    "The scale for the PM2.5 Air Quality Index (AQI) can be found [here](https://aqicn.org/calculator/) with an accompanying calculator."
   ]
  },
  {
   "cell_type": "code",
   "execution_count": 45,
   "metadata": {},
   "outputs": [],
   "source": [
    "def getAQI(concentration):\n",
    "    '''\n",
    "    Input:\n",
    "        - concentration: numpy float array holding the PM2.5 concentrations in ug/m^3\n",
    "    Returns the PM2.5 concentration as and air quality index\n",
    "    '''\n",
    "    aqi = []\n",
    "    for C in concentration:\n",
    "        if C <= 12.0:\n",
    "            aqi_score = round(C/12.0 * 50.0)\n",
    "            aqi.append(aqi_score)\n",
    "        elif C <= 35.4:\n",
    "            aqi_score = round(50 + (C-12.1)/(35.4-12.1) * (100-50))\n",
    "            aqi.append(aqi_score)\n",
    "        elif C <= 55.4:\n",
    "            aqi_score = round(100 + (C-35.5)/(55.4-35.5) * (150-100))\n",
    "            aqi.append(aqi_score)\n",
    "        elif C <= 150.4:\n",
    "            aqi_score = round(150 + (C-55.5)/(150.4-55.5) * (200-150))\n",
    "            aqi.append(aqi_score)\n",
    "        elif C <= 250.4:\n",
    "            aqi_score = round(200 + (C-150.5)/(250.4-150.5) * (300-200))\n",
    "            aqi.append(aqi_score)\n",
    "        elif C <= 350.4:\n",
    "            aqi_score = round(300 + (C-250.5)/(350.4-250.5) * (400-300))\n",
    "            aqi.append(aqi_score)\n",
    "        else:\n",
    "            aqi_score = round(400 + (C-350.5)/(500.4-350.5) * (500-400))\n",
    "            aqi.append(aqi_score)\n",
    "            \n",
    "    return aqi"
   ]
  },
  {
   "cell_type": "markdown",
   "metadata": {},
   "source": [
    "## Sleep Stages/Quality Derivatives\n",
    "Below are functions that derive the following features:\n",
    "1. Sleep Efficiency"
   ]
  },
  {
   "cell_type": "markdown",
   "metadata": {},
   "source": [
    "### Sleep Efficiency\n",
    "Sleep efficiency is defined as the percentage of time asleep while in bed."
   ]
  },
  {
   "cell_type": "code",
   "execution_count": 10,
   "metadata": {},
   "outputs": [],
   "source": [
    "def getSleepEfficiency(sleep_stages):\n",
    "    '''\n",
    "    Inputs:\n",
    "        - sleep_stages: Dataframe holding the time and sleep stage label\n",
    "    Returns a dataframe with the date and the efficiency for that day's sleep\n",
    "    '''\n",
    "    stages = sleep_stages['Stage_Label']\n",
    "    times = sleep_stages.index\n",
    "    locs = []\n",
    "    for i in range(len(sleep_stages)-1):\n",
    "        # Parsing out the days by looking for timesteps greater than 5 minutes\n",
    "        if sleep_stages.index[i+1]-sleep_stages.index[i] > timedelta(seconds = 300):\n",
    "            locs.append(i+1)\n",
    "\n",
    "    stages_byDay = np.split(stages,locs)\n",
    "    times_byDay = np.split(times,locs)\n",
    "    \n",
    "    latency = []\n",
    "    efficiency = []\n",
    "    night = []\n",
    "    time_asleep = []\n",
    "    awake_percentage = []\n",
    "    rem_percentage = []\n",
    "    nonrem_percentage = []\n",
    "    for i in range(len(stages_byDay)):\n",
    "        # Checking to see if the person was in bed for at least 5 hours (600 30-second periods)\n",
    "        if len(stages_byDay[i]) > 599:\n",
    "            night.append(datetime.strptime(str(times_byDay[i][0])[0:10],'%Y-%m-%d'))\n",
    "            time_asleep.append(len(stages_byDay[i])*30/60/60)\n",
    "            n = 0\n",
    "            while stages_byDay[i][n] == 'wake':\n",
    "                n += 1\n",
    "               \n",
    "            latency.append((n*30)/60/60)\n",
    "            wake_count = 0\n",
    "            rem_count = 0\n",
    "            nonrem_count = 0\n",
    "            for j in range(len(stages_byDay[i])):\n",
    "                if stages_byDay[i][j] == 'wake':\n",
    "                    wake_count += 1\n",
    "                elif stages_byDay[i][j] == 'rem':\n",
    "                    rem_count += 1\n",
    "                else:\n",
    "                    nonrem_count += 1\n",
    "                    \n",
    "            efficiency.append((1 - wake_count/len(stages_byDay[i]))*100)\n",
    "            awake_percentage.append(wake_count/len(stages_byDay[i])*100)\n",
    "            rem_percentage.append(rem_count/len(stages_byDay[i])*100)\n",
    "            nonrem_percentage.append(nonrem_count/len(stages_byDay[i])*100)\n",
    "        \n",
    "    d = {'Night': night, 'Time Asleep': time_asleep, 'Latency': latency, 'Efficiency': efficiency,\n",
    "         'Awake %': awake_percentage,\n",
    "         'REM %': rem_percentage,\n",
    "         'Non-REM %': nonrem_percentage}\n",
    "    df = pd.DataFrame(data=d)\n",
    "    df = df.set_index('Night')\n",
    "    return df"
   ]
  },
  {
   "cell_type": "code",
   "execution_count": null,
   "metadata": {},
   "outputs": [],
   "source": []
  }
 ],
 "metadata": {
  "kernelspec": {
   "display_name": "Python 3",
   "language": "python",
   "name": "python3"
  },
  "language_info": {
   "codemirror_mode": {
    "name": "ipython",
    "version": 3
   },
   "file_extension": ".py",
   "mimetype": "text/x-python",
   "name": "python",
   "nbconvert_exporter": "python",
   "pygments_lexer": "ipython3",
   "version": "3.6.8"
  }
 },
 "nbformat": 4,
 "nbformat_minor": 2
}
