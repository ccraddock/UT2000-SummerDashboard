{
 "cells": [
  {
   "cell_type": "markdown",
   "metadata": {},
   "source": [
    "# Data Derivatives Module\n",
    "The purpose of this notebook is to act as a module that can be imported into the Master Notebook to derive certain features from raw data."
   ]
  },
  {
   "cell_type": "markdown",
   "metadata": {},
   "source": [
    "## Fine Particulate Matter (PM2.5) Derivatives\n",
    "Below are functions that derive the following features:\n",
    "1. Air Quality Index (AQI)"
   ]
  },
  {
   "cell_type": "markdown",
   "metadata": {},
   "source": [
    "### Air Quality Index\n",
    "The scale for the PM2.5 Air Quality Index (AQI) can be found [here](https://aqicn.org/calculator/) with an accompanying calculator."
   ]
  },
  {
   "cell_type": "code",
   "execution_count": 45,
   "metadata": {},
   "outputs": [],
   "source": [
    "def getAQI(concentration):\n",
    "    '''\n",
    "    Input:\n",
    "        - concentration: numpy float array holding the PM2.5 concentrations in ug/m^3\n",
    "    Returns the PM2.5 concentration as and air quality index\n",
    "    '''\n",
    "    aqi = []\n",
    "    for C in concentration:\n",
    "        if C <= 12.0:\n",
    "            aqi_score = round(C/12.0 * 50.0)\n",
    "            aqi.append(aqi_score)\n",
    "        elif C <= 35.4:\n",
    "            aqi_score = round(50 + (C-12.1)/(35.4-12.1) * (100-50))\n",
    "            aqi.append(aqi_score)\n",
    "        elif C <= 55.4:\n",
    "            aqi_score = round(100 + (C-35.5)/(55.4-35.5) * (150-100))\n",
    "            aqi.append(aqi_score)\n",
    "        elif C <= 150.4:\n",
    "            aqi_score = round(150 + (C-55.5)/(150.4-55.5) * (200-150))\n",
    "            aqi.append(aqi_score)\n",
    "        elif C <= 250.4:\n",
    "            aqi_score = round(200 + (C-150.5)/(250.4-150.5) * (300-200))\n",
    "            aqi.append(aqi_score)\n",
    "        elif C <= 350.4:\n",
    "            aqi_score = round(300 + (C-250.5)/(350.4-250.5) * (400-300))\n",
    "            aqi.append(aqi_score)\n",
    "        else:\n",
    "            aqi_score = round(400 + (C-350.5)/(500.4-350.5) * (500-400))\n",
    "            aqi.append(aqi_score)\n",
    "            \n",
    "    return aqi"
   ]
  }
 ],
 "metadata": {
  "kernelspec": {
   "display_name": "Python 3",
   "language": "python",
   "name": "python3"
  },
  "language_info": {
   "codemirror_mode": {
    "name": "ipython",
    "version": 3
   },
   "file_extension": ".py",
   "mimetype": "text/x-python",
   "name": "python",
   "nbconvert_exporter": "python",
   "pygments_lexer": "ipython3",
   "version": "3.6.8"
  }
 },
 "nbformat": 4,
 "nbformat_minor": 2
}
