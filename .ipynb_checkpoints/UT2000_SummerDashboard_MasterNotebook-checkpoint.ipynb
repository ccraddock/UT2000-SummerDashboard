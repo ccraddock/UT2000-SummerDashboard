{
 "cells": [
  {
   "cell_type": "code",
   "execution_count": 215,
   "metadata": {},
   "outputs": [],
   "source": [
    "# Common Imports\n",
    "import numpy as np\n",
    "import pandas as pd\n",
    "from datetime import datetime, timedelta, date\n",
    "import os\n",
    "import matplotlib as mpl\n",
    "import matplotlib.pyplot as plt\n",
    "import matplotlib.dates as mdates\n",
    "from matplotlib.dates import date2num\n",
    "\n",
    "# Data Import Module\n",
    "%run ./Module_DataImport.ipynb\n",
    "\n",
    "# Data Visualization Module\n",
    "%run ./Module_DataVisualization.ipynb\n",
    "\n",
    "# Data Derivatives Module\n",
    "%run ./Module_DataDerivatives.ipynb"
   ]
  },
  {
   "cell_type": "markdown",
   "metadata": {},
   "source": [
    "## Deployment Information\n",
    "In the code cell are variables that can be tuned based on the deployment, they are described in more detail below:\n",
    "- student_list: a integer list of the students included in this study. Valid student numbers are between 2 and 9, inclusive.\n",
    "- start_date: the first date that you would like to include in the summary. The earliest date that can be chosen that will ensure at least one student has data is 03/11/2019.\n",
    "- end_date: the last date to include in the summary. No more data are available after 04/15/2019.\n",
    "\n",
    "The start and end dates are defaulted to the earliest and latest dates, respectively, given in the description above. "
   ]
  },
  {
   "cell_type": "code",
   "execution_count": 197,
   "metadata": {},
   "outputs": [],
   "source": [
    "student_list = np.arange(2,10,1)\n",
    "start_date = '04/01/2019'\n",
    "end_date = '04/04/2019'\n",
    "# Getting the number of hours\n",
    "time_diff = datetime.strptime(end_date, '%m/%d/%Y') - datetime.strptime(start_date, '%m/%d/%Y')\n",
    "num_hours = int(divmod(time_diff.total_seconds(),3600)[0])+24 # add 24 because we import all of the last day"
   ]
  },
  {
   "cell_type": "markdown",
   "metadata": {},
   "source": [
    "## Data Import\n",
    "\n",
    "### Indoor Environmental Quality Data\n",
    "In the code cell below, the indoor environmental quality data is imported from the ```beacon_data``` directory available for Students 2 through 9. The variables include:\n",
    "1. Temperature\n",
    "2. Relative Humidity$^1$\n",
    "3. PM2.5\n",
    "\n",
    "The functions for importing the data are stored in the ```Module_DataImport.pynb``` notebook in the same directory as this master notebook. \n",
    "\n",
    "$^1$Temperature and Relative Humidity are imported together and stored in the same dataframe. Collectively, they are referred to as \"thermal comfort\""
   ]
  },
  {
   "cell_type": "code",
   "execution_count": 198,
   "metadata": {},
   "outputs": [
    {
     "name": "stdout",
     "output_type": "stream",
     "text": [
      "\n",
      "Importing IEQ Data for: Student 2\n",
      "\n",
      "Importing Thermal Comfort Data...\n",
      "\tNo data from this deployment range\n",
      "\tInsufficient Data - not importing\n",
      "\n",
      "Importing PM2.5 Concentration Data...\n",
      "\tNo data from this deployment range\n",
      "\tInsufficient Data - not importing\n",
      "\n",
      "Importing IEQ Data for: Student 3\n",
      "\n",
      "Importing Thermal Comfort Data...\n",
      "\tNumber of datapoints: 479\n",
      "\tInsufficient Data - not importing\n",
      "\n",
      "Importing PM2.5 Concentration Data...\n",
      "\tNumber of datapoints: 71\n",
      "\tInsufficient Data - not importing\n",
      "\n",
      "Importing IEQ Data for: Student 4\n",
      "\n",
      "Importing Thermal Comfort Data...\n",
      "\tNumber of datapoints: 860\n",
      "\tImport Complete\n",
      "\n",
      "Importing PM2.5 Concentration Data...\n",
      "\tNumber of datapoints: 84\n",
      "\tInsufficient Data - not importing\n",
      "\n",
      "Importing IEQ Data for: Student 5\n",
      "\n",
      "Importing Thermal Comfort Data...\n",
      "\tNumber of datapoints: 486\n",
      "\tImport Complete\n",
      "\n",
      "Importing PM2.5 Concentration Data...\n",
      "\tNo data from this deployment range\n",
      "\tInsufficient Data - not importing\n",
      "\n",
      "Importing IEQ Data for: Student 6\n",
      "\n",
      "Importing Thermal Comfort Data...\n",
      "\tNumber of datapoints: 522\n",
      "\tImport Complete\n",
      "\n",
      "Importing PM2.5 Concentration Data...\n",
      "\tNumber of datapoints: 409\n",
      "\tInsufficient Data - not importing\n",
      "\n",
      "Importing IEQ Data for: Student 7\n",
      "\n",
      "Importing Thermal Comfort Data...\n",
      "\tNumber of datapoints: 860\n",
      "\tImport Complete\n",
      "\n",
      "Importing PM2.5 Concentration Data...\n",
      "\tNumber of datapoints: 675\n",
      "\tImport Complete\n",
      "\n",
      "Importing IEQ Data for: Student 8\n",
      "\n",
      "Importing Thermal Comfort Data...\n",
      "\tNumber of datapoints: 860\n",
      "\tImport Complete\n",
      "\n",
      "Importing PM2.5 Concentration Data...\n",
      "\tNumber of datapoints: 676\n",
      "\tImport Complete\n",
      "\n",
      "Importing IEQ Data for: Student 9\n",
      "\n",
      "Importing Thermal Comfort Data...\n",
      "\tNumber of datapoints: 860\n",
      "\tImport Complete\n",
      "\n",
      "Importing PM2.5 Concentration Data...\n",
      "\tNumber of datapoints: 677\n",
      "\tImport Complete\n"
     ]
    }
   ],
   "source": [
    "TC_byStudent = pd.Series()\n",
    "Concentration_byStudent = pd.Series()\n",
    "for n in student_list:\n",
    "    print()\n",
    "    print('Importing IEQ Data for: Student',n)\n",
    "    print('\\nImporting Thermal Comfort Data...')\n",
    "    TC_temp = ieqImport(str(n),'sht31d',['time','rh','temp'],'all',start_date,end_date)\n",
    "    if len(TC_temp) < 5*num_hours: # We should get at least 5 data points per hour\n",
    "        print('\\tInsufficient Data - not importing')\n",
    "    else:\n",
    "        TC_byStudent['Student' + str(n)] = TC_temp\n",
    "        print('\\tImport Complete')\n",
    "        \n",
    "    print('\\nImporting PM2.5 Concentration Data...')\n",
    "    Concentration_temp = ieqImport(str(n),'pms5003',['time','PM2.5'],[0,2],start_date,end_date)\n",
    "    if len(Concentration_temp) < 5*num_hours: # We should get at least 5 data points per hour\n",
    "        print('\\tInsufficient Data - not importing')\n",
    "    else:\n",
    "        Concentration_byStudent['Student' + str(n)] = Concentration_temp\n",
    "        print('\\tImport Complete')"
   ]
  },
  {
   "cell_type": "markdown",
   "metadata": {},
   "source": [
    "### Sleep Quality Data\n",
    "There are two types of sleep quality data, gathered from different sources:\n",
    "1. Sleep Stages from Fitbit\n",
    "2. Perceived Sleep Quality from Beiwe EMA Surveys\n",
    "\n",
    "Both datasets are imported below in the code cell."
   ]
  },
  {
   "cell_type": "code",
   "execution_count": 199,
   "metadata": {},
   "outputs": [
    {
     "name": "stdout",
     "output_type": "stream",
     "text": [
      "Importing Sleep Quality Data for: Student 2\n",
      "16428\n",
      "\tNumber of datapoints: 631\n",
      "Importing Sleep Quality Data for: Student 3\n",
      "7736\n",
      "\tNumber of datapoints: 730\n",
      "Importing Sleep Quality Data for: Student 4\n",
      "16999\n",
      "\tNumber of datapoints: 3097\n",
      "Importing Sleep Quality Data for: Student 5\n",
      "\tNo data from this deployment range\n",
      "Importing Sleep Quality Data for: Student 6\n",
      "\tNo data from this deployment range\n",
      "Importing Sleep Quality Data for: Student 7\n",
      "\tNo data from this deployment range\n",
      "Importing Sleep Quality Data for: Student 8\n",
      "17777\n",
      "\tNumber of datapoints: 3108\n",
      "Importing Sleep Quality Data for: Student 9\n",
      "\tNo data from this deployment range\n"
     ]
    }
   ],
   "source": [
    "SS_byInd = pd.Series()\n",
    "PSQ_byInd = pd.Series()\n",
    "for n in student_list:\n",
    "    print('Importing Sleep Quality Data for: Student',n)\n",
    "    SS_byInd['Student' + str(n)] = fitbitImport(str(n),'S' + str(n) + '_SleepStages.csv',['Time','ShortWakes','Stage_Label'],[1,3,4],start_date,end_date)"
   ]
  },
  {
   "cell_type": "markdown",
   "metadata": {
    "collapsed": true
   },
   "source": [
    "## Single Variable Data Visualization\n",
    "Below are visualizations that incorporate one variable.\n",
    "\n",
    "### PM2.5\n",
    "There are three main PM2.5 Concentration figures:\n",
    "1. Time Series showing daily PM2.5 concentrations in their home\n",
    "2. Time Series showing daily AQI for PM2.5 in their home\n",
    "3. Bar Chart showing daily median concentrations in their home"
   ]
  },
  {
   "cell_type": "markdown",
   "metadata": {},
   "source": [
    "#### PM2.5 Concentration Profile"
   ]
  },
  {
   "cell_type": "code",
   "execution_count": 200,
   "metadata": {
    "scrolled": false
   },
   "outputs": [],
   "source": [
    "# Data Visualization Module\n",
    "%run ./Module_DataVisualization.ipynb\n",
    "\n",
    "# Looping through all the imported data\n",
    "for name in Concentration_byStudent.index:\n",
    "    ## Created new columns in the dataframe that store the month and date\n",
    "    Concentration_byStudent[name]['Month'] = Concentration_byStudent[name].index.month        \n",
    "    Concentration_byStudent[name]['Day'] = Concentration_byStudent[name].index.day\n",
    "    ## Splitting the dataframe by the month and day to get a dataframe per day\n",
    "    agg = Concentration_byStudent[name].groupby(['Month','Day'])\n",
    "    Median_byInd = agg.median()\n",
    "    \n",
    "    ## Looping through the individual's days of data and plotting\n",
    "    index = 0\n",
    "    for group in agg:\n",
    "        ### Converting the group into a dataframe\n",
    "        group = pd.DataFrame(data=group[1])\n",
    "        ### Plotting Concentration profile\n",
    "        #getFinePMTimeSeries(group.index,group['PM2.5'],'Concentration ($\\mu$g/m$^3$)',index+1)\n",
    "        ### Plotting AQI profile\n",
    "        #getFinePMTimeSeries(group.index,getAQI(group['PM2.5']),'Air Quality Index',index+1)\n",
    "        index += 1"
   ]
  },
  {
   "cell_type": "markdown",
   "metadata": {},
   "source": [
    "### Sleep Stages/Quality"
   ]
  },
  {
   "cell_type": "code",
   "execution_count": 240,
   "metadata": {
    "scrolled": false
   },
   "outputs": [
    {
     "name": "stdout",
     "output_type": "stream",
     "text": [
      "Student2\n",
      "Student3\n",
      "Student4\n",
      "Student8\n"
     ]
    },
    {
     "data": {
      "image/png": "[encoded data removed]",
      "text/plain": [
       "<Figure size 1152x576 with 1 Axes>"
      ]
     },
     "metadata": {},
     "output_type": "display_data"
    },
    {
     "data": {
      "image/png": "[encoded data removed]",
      "text/plain": [
       "<Figure size 1152x576 with 1 Axes>"
      ]
     },
     "metadata": {},
     "output_type": "display_data"
    },
    {
     "data": {
      "image/png": "[encoded data removed]",
      "text/plain": [
       "<Figure size 1152x576 with 1 Axes>"
      ]
     },
     "metadata": {},
     "output_type": "display_data"
    },
    {
     "data": {
      "image/png": "[encoded data removed]",
      "text/plain": [
       "<Figure size 1152x576 with 1 Axes>"
      ]
     },
     "metadata": {},
     "output_type": "display_data"
    }
   ],
   "source": [
    "# Data Derivatives Module\n",
    "%run ./Module_DataDerivatives.ipynb\n",
    "\n",
    "# Data Visualization Module\n",
    "%run ./Module_DataVisualization.ipynb\n",
    "\n",
    "#print(SS_byInd[0])\n",
    "SE_byInd = pd.Series()\n",
    "for name in SS_byInd.index:\n",
    "    if len(SS_byInd[name]) > 0:\n",
    "        print(name)\n",
    "        SE_byInd[name] = getSleepEfficiency(SS_byInd[name])\n",
    "        #getSleepStagePercentages(SE_byInd[name])\n",
    "        getSleepStageBenchmark1(SE_byInd[name])\n",
    "        #print(SE_byInd[name].head())"
   ]
  },
  {
   "cell_type": "markdown",
   "metadata": {},
   "source": [
    "## "
   ]
  },
  {
   "cell_type": "code",
   "execution_count": null,
   "metadata": {},
   "outputs": [],
   "source": []
  }
 ],
 "metadata": {
  "kernelspec": {
   "display_name": "Python 3",
   "language": "python",
   "name": "python3"
  },
  "language_info": {
   "codemirror_mode": {
    "name": "ipython",
    "version": 3
   },
   "file_extension": ".py",
   "mimetype": "text/x-python",
   "name": "python",
   "nbconvert_exporter": "python",
   "pygments_lexer": "ipython3",
   "version": "3.6.8"
  }
 },
 "nbformat": 4,
 "nbformat_minor": 2
}
