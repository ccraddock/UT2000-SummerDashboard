{
 "cells": [
  {
   "cell_type": "markdown",
   "metadata": {},
   "source": [
    "# Data Visualization Module\n",
    "The purpose of this notebook is to act as a module that can be imported into the Master Notebook to visualize various data."
   ]
  },
  {
   "cell_type": "markdown",
   "metadata": {},
   "source": [
    "## Fine Particulate Matter (PM2.5) Time Series\n",
    "The following function plots PM2.5 concentration as either $\\mu$g/m$^3$ or AQI. The background is formatted such that the breakpoints for AQI are included. Breakpoints for AQI can be found [here](http://aqicn.org/faq/2013-09-09/revised-pm25-aqi-breakpoints/). "
   ]
  },
  {
   "cell_type": "code",
   "execution_count": 2,
   "metadata": {},
   "outputs": [],
   "source": [
    "def getFinePMTimeSeries(x, y, ylabel, day_no=0, figure_size=(16,8)):\n",
    "    '''\n",
    "    Inputs:\n",
    "        - x: numpy DateTime array holding the independent variable data\n",
    "        - y: numpy float array holding the PM2.5 concentration or AQI\n",
    "        - ylabel: string representing the y-axis label \n",
    "        - day_no: integer for what day in the series it is\n",
    "        - figure_size: a tuple holding the figure size; default is (16,8)\n",
    "    Returns a time series plot of PM2.5 Concentration or AQI with AQI breakpoints included as background\n",
    "    '''\n",
    "    # Plotting\n",
    "    fig, ax = plt.subplots(figsize = figure_size)\n",
    "    ax.plot(x,y,color='black',linewidth=3,label='PM2.5')\n",
    "\n",
    "    ## Formatting x-axis\n",
    "    ax.set_xlim([x[0],x[-1]])\n",
    "    ### Formatting datetime labels\n",
    "    ax.xaxis.set_major_formatter(mdates.DateFormatter('%m/%d %H:%M'))\n",
    "    ax.xaxis.set_major_locator(mdates.DayLocator())\n",
    "    ax.xaxis.set_minor_formatter(mdates.DateFormatter('%H:%M'))\n",
    "    ax.xaxis.set_minor_locator(mdates.HourLocator(byhour=range(2,24,2)))\n",
    "    ax.set_xlabel('Time')\n",
    "    ax.xaxis.set_tick_params(rotation=-30)\n",
    "    \n",
    "    ## Formatting y-axis\n",
    "    ax.set_ylim([0,500])\n",
    "    ax.set_ylabel(ylabel)\n",
    "    \n",
    "    ## Formatting remaining aspects of figure\n",
    "    ax.set_title('Day ' + str(day_no) + ': ' + str(x[2].date()))\n",
    "    ### AQI breakpoints\n",
    "    bp_c_start = [0,12,35.5,55.5,150.5,250.5]\n",
    "    bp_c_end = [12,35.4,55.4,150.4,250.4,500]\n",
    "    bp_aqi_start = [0,51,101,151,201,301]\n",
    "    bp_aqi_end = [50,100,150,200,300,500]\n",
    "    if ylabel == 'Air Quality Index':\n",
    "        bp_start = bp_aqi_start\n",
    "        bp_end = bp_aqi_end\n",
    "    else:\n",
    "        bp_start = bp_c_start\n",
    "        bp_end = bp_c_end\n",
    "    ax.axhspan(bp_start[0],bp_end[0],color='green',alpha=0.3,label='Good')\n",
    "    ax.axhspan(bp_start[1],bp_end[1],color='yellow',alpha=0.3,label='Moderate')\n",
    "    ax.axhspan(bp_start[2],bp_end[2],color='orange',alpha=0.3,label='Unhealthy for Children/Elderly')\n",
    "    ax.axhspan(bp_start[3],bp_end[3],color='red',alpha=0.3,label='Unhealthy')\n",
    "    ax.axhspan(bp_start[4],bp_end[4],color='purple',alpha=0.3,label='Very Unhealthy')\n",
    "    ax.axhspan(bp_start[5],bp_end[5],color='maroon',alpha=0.3,label='Hazardous')\n",
    "    ax.legend()"
   ]
  },
  {
   "cell_type": "markdown",
   "metadata": {},
   "source": [
    "## Sleep Stages Bar Chart\n",
    "The following function plots the relative percentage of wake, rem, and non-rem stages. The background corresponds to the approximate ranges that qualify as proper sleep."
   ]
  },
  {
   "cell_type": "code",
   "execution_count": 68,
   "metadata": {},
   "outputs": [],
   "source": [
    "def getSleepStagePercentages(sleep_metrics):\n",
    "    '''\n",
    "    Inputs:\n",
    "        - sleep_metrics: a dataframe that holds different sleep metrics, indexed by the night\n",
    "    Returns a bar chart showing the relative percentage of awake, non-rem, and rem sleep stages\n",
    "    '''\n",
    "    # Plotting\n",
    "    fig, ax = plt.subplots(figsize=(16,8))\n",
    "    index = np.arange(len(sleep_metrics))\n",
    "    p1 = ax.bar(index,sleep_metrics['Awake %'],bottom=sleep_metrics['Non-REM %']+sleep_metrics['REM %'], color='pink',edgecolor='k',label='Awake')\n",
    "    p2 = ax.bar(index,sleep_metrics['REM %'], bottom=sleep_metrics['Non-REM %'],color='c',edgecolor='k',label='REM')\n",
    "    p3 = ax.bar(index,sleep_metrics['Non-REM %'], color='navy',edgecolor='k',label='Non-REM')\n",
    "\n",
    "    ##\n",
    "    rect_no = 0\n",
    "    for rect in p1:\n",
    "        x_pos = rect.get_x() + rect.get_width()/2.0\n",
    "        y_pos = 5\n",
    "        height = rect.get_height()\n",
    "        text = 'Sleep Efficiency: ' + str(round(sleep_metrics['Efficiency'][rect_no],1)) + '%'\n",
    "        plt.text(x_pos, y_pos, text, ha='center', va='bottom',color='white')\n",
    "        rect_no += 1\n",
    "    \n",
    "    ## Formatting x-axis\n",
    "    ax.xaxis_date()\n",
    "    ax.set_xlabel('Date')\n",
    "    date_ticks = []\n",
    "    for night in sleep_metrics.index:\n",
    "        date_ticks.append(str(night.month) + '/' + str(night.day))\n",
    "    plt.xticks(index,date_ticks)\n",
    "\n",
    "    ## Formatting y-axis\n",
    "    ax.set_yticks(np.arange(0,105,10))\n",
    "    ax.set_ylabel('Percent of Sleep Spent in Each Stage')\n",
    "        \n",
    "    ax.legend()"
   ]
  },
  {
   "cell_type": "code",
   "execution_count": 63,
   "metadata": {},
   "outputs": [],
   "source": [
    "def getSleepStageBenchmark(sleep_metrics):\n",
    "    '''\n",
    "    Inputs:\n",
    "        - sleep_metrics: a dataframe that holds different sleep metrics, indexed by the night\n",
    "    Returns a bar chart that shows the percentage spent in each sleep stage compared against the recommended levels\n",
    "    '''\n",
    "    # Plotting\n",
    "    fig, ax = plt.subplots(figsize=(16,8))\n",
    "    ## Generating bar chart details\n",
    "    index = np.arange(len(sleep_metrics))\n",
    "    bar_width = 0.2\n",
    "    pad = 0.1\n",
    "    \n",
    "    ## Creating the bars and the shaded areas\n",
    "    rect_shade1 = ax.bar(index-pad-bar_width,15,bottom=5,width=bar_width+pad/2,color='pink',alpha=0.3,hatch='/',edgecolor='k',label='Typical Awake %')\n",
    "    p1 = ax.bar(index-pad-bar_width,sleep_metrics['Awake %'],width=bar_width,color='pink',edgecolor='k',label='Your Awake %')\n",
    "    rect_shade2 = ax.bar(index,10,bottom=13,width=bar_width+pad/2,color='c',alpha=0.3,hatch='/',edgecolor='k',label='Recommended REM %')\n",
    "    p2 = ax.bar(index,sleep_metrics['REM %'],width=bar_width,color='c',edgecolor='k',label='Your REM %')\n",
    "    rect_shad3 = ax.bar(index+pad+bar_width,83-52,bottom=52,width=bar_width+pad/2,color='navy',alpha=0.3,hatch='/',edgecolor='k',label='Recommended Non-REM %')\n",
    "    p3 = ax.bar(index+pad+bar_width,sleep_metrics['Non-REM %'],width=bar_width,color='navy',edgecolor='k',label='Your Non-REM %')\n",
    "\n",
    "    ## Formatting x-axis\n",
    "    ax.xaxis_date()\n",
    "    ax.set_xlabel('Date')\n",
    "    date_ticks = []\n",
    "    for night in sleep_metrics.index:\n",
    "        date_ticks.append(str(night.month) + '/' + str(night.day))\n",
    "    plt.xticks(index,date_ticks)\n",
    "    \n",
    "    ## Formatting y-axis\n",
    "    ax.set_ylabel('Percent of Time Spent in Sleep Stage')\n",
    "    ax.set_ylim([0,100])\n",
    "    ax.set_yticks(np.arange(0,105,10))\n",
    "    ax.legend()"
   ]
  },
  {
   "cell_type": "code",
   "execution_count": null,
   "metadata": {},
   "outputs": [],
   "source": []
  }
 ],
 "metadata": {
  "kernelspec": {
   "display_name": "Python 3",
   "language": "python",
   "name": "python3"
  },
  "language_info": {
   "codemirror_mode": {
    "name": "ipython",
    "version": 3
   },
   "file_extension": ".py",
   "mimetype": "text/x-python",
   "name": "python",
   "nbconvert_exporter": "python",
   "pygments_lexer": "ipython3",
   "version": "3.6.8"
  }
 },
 "nbformat": 4,
 "nbformat_minor": 2
}
