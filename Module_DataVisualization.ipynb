{
 "cells": [
  {
   "cell_type": "markdown",
   "metadata": {},
   "source": [
    "# Data Visualization Module\n",
    "The purpose of this notebook is to act as a module that can be imported into the Master Notebook to visualize various data."
   ]
  },
  {
   "cell_type": "code",
   "execution_count": 16,
   "metadata": {},
   "outputs": [],
   "source": [
    "def getFinePMTimeSeries(x, y, ylabel, figure_size=(16,8)):\n",
    "    '''\n",
    "    Inputs:\n",
    "        - x: numpy DateTime array holding the independent variable data\n",
    "        - y: numpy float array holding the PM2.5 concentration or AQI\n",
    "        - ylabel: string representing the y-axis label \n",
    "        - figure_size: a tuple holding the figure size; default is (16,8)\n",
    "    Returns a time series plot of PM2.5 Concentration or AQI with AQI breakpoints included as background\n",
    "    '''\n",
    "    # Plotting\n",
    "    fig, ax = plt.subplots(figsize = figure_size)\n",
    "    ax.plot(x,y,color='black',linewidth=3,label='PM2.5')\n",
    "\n",
    "    ## Formatting x-axis\n",
    "    ax.set_xlim([x[0],x[-1]])\n",
    "    ### Formatting datetime labels\n",
    "    ax.xaxis.set_major_formatter(mdates.DateFormatter('%m/%d %H:%M'))\n",
    "    ax.xaxis.set_major_locator(mdates.DayLocator())\n",
    "    ax.xaxis.set_minor_formatter(mdates.DateFormatter('%H:%M'))\n",
    "    ax.xaxis.set_minor_locator(mdates.HourLocator(byhour=range(2,24,2)))\n",
    "    ax.set_xlabel('Time')\n",
    "    ax.xaxis.set_tick_params(rotation=-30)\n",
    "    \n",
    "    ## Formatting y-axis\n",
    "    ax.set_ylim([0,500])\n",
    "    ax.set_ylabel(ylabel)\n",
    "    \n",
    "    ## Formatting remaining aspects of figure\n",
    "    ax.set_title('Day: ' + str(x[2].date()))\n",
    "    ### AQI breakpoints\n",
    "    ax.axhspan(0,12,color='green',alpha=0.3,label='Good')\n",
    "    ax.axhspan(12,35.4,color='yellow',alpha=0.3,label='Moderate')\n",
    "    ax.axhspan(35.5,55.4,color='orange',alpha=0.3,label='Unhealthy for Children/Elderly')\n",
    "    ax.axhspan(55.5,150.4,color='red',alpha=0.3,label='Unhealthy')\n",
    "    ax.axhspan(150.5,250.4,color='purple',alpha=0.3,label='Very Unhealthy')\n",
    "    ax.axhspan(250.5,500,color='maroon',alpha=0.3,label='Hazardous')\n",
    "    ax.legend()"
   ]
  },
  {
   "cell_type": "code",
   "execution_count": null,
   "metadata": {},
   "outputs": [],
   "source": []
  }
 ],
 "metadata": {
  "kernelspec": {
   "display_name": "Python 3",
   "language": "python",
   "name": "python3"
  },
  "language_info": {
   "codemirror_mode": {
    "name": "ipython",
    "version": 3
   },
   "file_extension": ".py",
   "mimetype": "text/x-python",
   "name": "python",
   "nbconvert_exporter": "python",
   "pygments_lexer": "ipython3",
   "version": "3.6.8"
  }
 },
 "nbformat": 4,
 "nbformat_minor": 2
}
