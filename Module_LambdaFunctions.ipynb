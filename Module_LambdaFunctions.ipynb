{
 "cells": [
  {
   "cell_type": "markdown",
   "metadata": {},
   "source": [
    "# Lambda Function Module\n",
    "This notebook includes all the functions needed for the **lambda operations**. Each of these functions performs three operations:\n",
    "1. Imports the data\n",
    "2. Cleans and/or reorganizes the data in a usable way\n",
    "3. Write the data to a csv file"
   ]
  },
  {
   "cell_type": "markdown",
   "metadata": {},
   "source": [
    "## Thermal Comfort\n",
    "The output from the thermal comfort data includes:\n",
    "1. Timestamp\n",
    "2. Hourly-averaged temperatures by individual\n",
    "3. Hourly-averaged relative humidity by individual\n",
    "4. Hourly-averaged temperature by group\n",
    "5. Hourly-averaged relative humiditity by group"
   ]
  },
  {
   "cell_type": "code",
   "execution_count": 17,
   "metadata": {},
   "outputs": [],
   "source": [
    "def lambdaThermalComfort(starting='03/11/2019', ending='04/15/2019'):\n",
    "    '''\n",
    "    Inputs:\n",
    "        - starting: string representing the first date to use in the data range\n",
    "        - ending: string representing the last date to use in the data range\n",
    "    Returns a dataframe containing the timestamp and the values for variables defined by the sensor type\n",
    "    '''\n",
    "    raw_data = pd.DataFrame()\n",
    "    id_list = []\n",
    "    # Importing the data\n",
    "    for folder in os.listdir('Data/'):\n",
    "        if folder[0] != '.':\n",
    "            id_list.append(folder)\n",
    "            ## Important variables\n",
    "            DIR = 'Data/' + folder + '/beacon_data/bevo/sht31d/' # Location of file\n",
    "            temp = pd.DataFrame() # Stores one csv file's worth of data\n",
    "\n",
    "            ## Looping through all the files in the sensor directory\n",
    "            for file in os.listdir(DIR):\n",
    "                if str(file[-3:]) == 'csv': # To ensure that we only read in csv files\n",
    "                    temp = pd.read_csv(DIR + file,header=None,names=['Time','RH','Temperature_C'])\n",
    "                    temp['ID'] = folder\n",
    "                    raw_data = pd.concat([raw_data,temp],axis=0,ignore_index=True)\n",
    "\n",
    "    ## Creating a date array for indexing that converts utctimestamp to Central Time\n",
    "    raw_data = raw_data.dropna() # Dropping any NaNs\n",
    "    t = np.zeros((len(raw_data)),dtype='datetime64[ns]') # Array to store times\n",
    "    for j in range(len(t)):\n",
    "        ts = int(raw_data['Time'].values[j])\n",
    "        t[j] = datetime.strptime(datetime.utcfromtimestamp(ts).strftime('%Y-%m-%d %H:%M:%S'),'%Y-%m-%d %H:%M:%S') - timedelta(hours=5)\n",
    "\n",
    "    ## Re-indexing and re-naming\n",
    "    raw_data['Time'] = t\n",
    "    raw_data = raw_data.set_index('Time') # Setting time as the dataframe index\n",
    "    raw_data = raw_data.sort_index()\n",
    "\n",
    "    ## Adding column for temperature in Farenheit\n",
    "    raw_data['Temperature_F'] = raw_data['Temperature_C']*1.8+32\n",
    "\n",
    "    ## Removing data from DF that isn't in the deployment range\n",
    "    start_date = datetime.strptime(starting, '%m/%d/%Y') # converting input to datetime\n",
    "    end_date = datetime.strptime(ending, '%m/%d/%Y') # converting input to datetime\n",
    "    ### Checking to see if there is data in the range\n",
    "    if raw_data.index[-1] < start_date:\n",
    "        print('\\tNo data from this deployment range')\n",
    "\n",
    "    ## Checking to see if we are importing one day's worth of data\n",
    "    elif start_date == end_date:\n",
    "        raw_data = raw_data[raw_data.index.month == start_date.month] # mask by month\n",
    "        raw_data = raw_data[raw_data.index.day == start_date.day] # mask by the day\n",
    "\n",
    "    ## Normal range of data\n",
    "    else:\n",
    "        ### Variables to store the correct indexes\n",
    "        start_index = 0\n",
    "        end_index = -1\n",
    "        ### Looping through to find the start dates\n",
    "        for j in range(len(raw_data)):\n",
    "            if raw_data.index[j].month == start_date.month and raw_data.index[j].day == start_date.day:\n",
    "                #### Once we find the month and date, we want to break so that we store the first entry from that day\n",
    "                start_index = j\n",
    "                break\n",
    "            if raw_data.index[j] > start_date:\n",
    "                #### In the rare case we tried to import a day that is not present in the dataset, we have to find the next closest\n",
    "                start_index = j\n",
    "                break\n",
    "        ### Removing the data gathered before the start index/start date\n",
    "        raw_data = raw_data[start_index:]\n",
    "\n",
    "        ### Looping through remaining values to find the end date\n",
    "        for j in range(len(raw_data)):\n",
    "            if raw_data.index[j] > end_date:\n",
    "                end_index = j-1\n",
    "                break\n",
    "\n",
    "        ### Removing any data that remains after the ending index/end date\n",
    "        raw_data = raw_data[0:end_index]\n",
    "        \n",
    "    # Averaging Data by Hour\n",
    "    raw_data['Month'] = raw_data.index.month\n",
    "    raw_data['Day'] = raw_data.index.day\n",
    "    raw_data['Hour'] = raw_data.index.hour\n",
    "    temp = raw_data.groupby(['ID','Month','Day','Hour']).mean()\n",
    "    \n",
    "    for name in id_list:\n",
    "        temp.loc[name].to_csv('Files/' + name + '_ThermalConditions.csv')\n",
    "    \n",
    "    return raw_data,temp"
   ]
  },
  {
   "cell_type": "markdown",
   "metadata": {},
   "source": [
    "## Indoor Air Quality "
   ]
  },
  {
   "cell_type": "markdown",
   "metadata": {},
   "source": [
    "## Fitbit Sleep Quality"
   ]
  },
  {
   "cell_type": "markdown",
   "metadata": {},
   "source": [
    "## Beiwe Sleep Quality"
   ]
  },
  {
   "cell_type": "code",
   "execution_count": null,
   "metadata": {},
   "outputs": [],
   "source": []
  }
 ],
 "metadata": {
  "kernelspec": {
   "display_name": "Python 3",
   "language": "python",
   "name": "python3"
  },
  "language_info": {
   "codemirror_mode": {
    "name": "ipython",
    "version": 3
   },
   "file_extension": ".py",
   "mimetype": "text/x-python",
   "name": "python",
   "nbconvert_exporter": "python",
   "pygments_lexer": "ipython3",
   "version": "3.6.8"
  }
 },
 "nbformat": 4,
 "nbformat_minor": 2
}
