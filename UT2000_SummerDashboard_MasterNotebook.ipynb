{
 "cells": [
  {
   "cell_type": "code",
   "execution_count": 193,
   "metadata": {},
   "outputs": [],
   "source": [
    "# Common Imports\n",
    "import numpy as np\n",
    "import pandas as pd\n",
    "from datetime import datetime, timedelta, date\n",
    "import os\n",
    "import matplotlib as mpl\n",
    "import matplotlib.pyplot as plt\n",
    "import matplotlib.dates as mdates\n",
    "\n",
    "# Data Import Module\n",
    "%run ./Module_DataImport.ipynb\n",
    "\n",
    "# Data Visualization Module\n",
    "%run ./Module_DataVisualization.ipynb\n",
    "\n",
    "# Data Derivatives Module\n",
    "%run ./Module_DataDerivatives.ipynb"
   ]
  },
  {
   "cell_type": "markdown",
   "metadata": {},
   "source": [
    "## Deployment Information\n",
    "In the code cell are variables that can be tuned based on the deployment, they are described in more detail below:\n",
    "- student_list: a integer list of the students included in this study. Valid student numbers are between 2 and 9, inclusive.\n",
    "- start_date: the first date that you would like to include in the summary. The earliest date that can be chosen that will ensure at least one student has data is 03/11/2019.\n",
    "- end_date: the last date to include in the summary. No more data are available after 04/15/2019.\n",
    "\n",
    "The start and end dates are defaulted to the earliest and latest dates, respectively, given in the description above. "
   ]
  },
  {
   "cell_type": "code",
   "execution_count": 184,
   "metadata": {},
   "outputs": [],
   "source": [
    "student_list = np.arange(2,10,1)\n",
    "start_date = '04/01/2019'\n",
    "end_date = '04/04/2019'\n",
    "# Getting the number of hours\n",
    "time_diff = datetime.strptime(end_date, '%m/%d/%Y') - datetime.strptime(start_date, '%m/%d/%Y')\n",
    "num_hours = int(divmod(time_diff.total_seconds(),3600)[0])+24 # add 24 because we import all of the last day"
   ]
  },
  {
   "cell_type": "markdown",
   "metadata": {},
   "source": [
    "## Data Import\n",
    "\n",
    "### Indoor Environmental Quality Data\n",
    "In the code cell below, the indoor environmental quality data is imported from the ```beacon_data``` directory available for Students 2 through 9. The variables include:\n",
    "1. Temperature\n",
    "2. Relative Humidity$^1$\n",
    "3. PM2.5\n",
    "\n",
    "The functions for importing the data are stored in the ```Module_DataImport.pynb``` notebook in the same directory as this master notebook. \n",
    "\n",
    "$^1$Temperature and Relative Humidity are imported together and stored in the same dataframe. Collectively, they are referred to as \"thermal comfort\""
   ]
  },
  {
   "cell_type": "code",
   "execution_count": 185,
   "metadata": {},
   "outputs": [
    {
     "name": "stdout",
     "output_type": "stream",
     "text": [
      "\n",
      "Importing IEQ Data for: Student 2\n",
      "\n",
      "Importing Thermal Comfort Data...\n",
      "\tNumber of datapoints: 2926\n",
      "\tImport Complete\n",
      "\n",
      "Importing PM2.5 Concentration Data...\n",
      "\tNumber of datapoints: 27\n",
      "\tInsufficient Data - not importing\n",
      "\n",
      "Importing IEQ Data for: Student 3\n",
      "\n",
      "Importing Thermal Comfort Data...\n",
      "\tNumber of datapoints: 9050\n",
      "\tImport Complete\n",
      "\n",
      "Importing PM2.5 Concentration Data...\n",
      "\tNumber of datapoints: 253\n",
      "\tInsufficient Data - not importing\n",
      "\n",
      "Importing IEQ Data for: Student 4\n",
      "\n",
      "Importing Thermal Comfort Data...\n",
      "\tNumber of datapoints: 17072\n",
      "\tImport Complete\n",
      "\n",
      "Importing PM2.5 Concentration Data...\n",
      "\tNumber of datapoints: 111\n",
      "\tInsufficient Data - not importing\n",
      "\n",
      "Importing IEQ Data for: Student 5\n",
      "\n",
      "Importing Thermal Comfort Data...\n",
      "\tNumber of datapoints: 9233\n",
      "\tImport Complete\n",
      "\n",
      "Importing PM2.5 Concentration Data...\n",
      "\tNumber of datapoints: 103\n",
      "\tInsufficient Data - not importing\n",
      "\n",
      "Importing IEQ Data for: Student 6\n",
      "\n",
      "Importing Thermal Comfort Data...\n",
      "\tNumber of datapoints: 16555\n",
      "\tImport Complete\n",
      "\n",
      "Importing PM2.5 Concentration Data...\n",
      "\tNumber of datapoints: 10685\n",
      "\tImport Complete\n",
      "\n",
      "Importing IEQ Data for: Student 7\n",
      "\n",
      "Importing Thermal Comfort Data...\n",
      "\tNumber of datapoints: 16950\n",
      "\tImport Complete\n",
      "\n",
      "Importing PM2.5 Concentration Data...\n",
      "\tNumber of datapoints: 13269\n",
      "\tImport Complete\n",
      "\n",
      "Importing IEQ Data for: Student 8\n",
      "\n",
      "Importing Thermal Comfort Data...\n",
      "\tNumber of datapoints: 14457\n",
      "\tImport Complete\n",
      "\n",
      "Importing PM2.5 Concentration Data...\n",
      "\tNumber of datapoints: 8083\n",
      "\tImport Complete\n",
      "\n",
      "Importing IEQ Data for: Student 9\n",
      "\n",
      "Importing Thermal Comfort Data...\n",
      "\tNumber of datapoints: 17091\n",
      "\tImport Complete\n",
      "\n",
      "Importing PM2.5 Concentration Data...\n",
      "\tNumber of datapoints: 13387\n",
      "\tImport Complete\n"
     ]
    }
   ],
   "source": [
    "TC_byStudent = pd.Series()\n",
    "Concentration_byStudent = pd.Series()\n",
    "for n in student_list:\n",
    "    print()\n",
    "    print('Importing IEQ Data for: Student',n)\n",
    "    print('\\nImporting Thermal Comfort Data...')\n",
    "    TC_temp = ieqImport(str(n),'sht31d',['time','rh','temp'],'all',start_date,end_date)\n",
    "    if len(TC_temp) < 5*num_hours: # We should get at least 5 data points per hour\n",
    "        print('\\tInsufficient Data - not importing')\n",
    "    else:\n",
    "        TC_byStudent['Student' + str(n)] = TC_temp\n",
    "        print('\\tImport Complete')\n",
    "        \n",
    "    print('\\nImporting PM2.5 Concentration Data...')\n",
    "    Concentration_temp = ieqImport(str(n),'pms5003',['time','PM2.5'],[0,2],start_date,end_date)\n",
    "    if len(Concentration_temp) < 5*num_hours: # We should get at least 5 data points per hour\n",
    "        print('\\tInsufficient Data - not importing')\n",
    "    else:\n",
    "        Concentration_byStudent['Student' + str(n)] = Concentration_temp\n",
    "        print('\\tImport Complete')"
   ]
  },
  {
   "cell_type": "markdown",
   "metadata": {},
   "source": [
    "### Sleep Quality Data\n",
    "There are two types of sleep quality data, gathered from different sources:\n",
    "1. Sleep Stages from Fitbit\n",
    "2. Perceived Sleep Quality from Beiwe EMA Surveys\n",
    "\n",
    "Both datasets are imported below in the code cell."
   ]
  },
  {
   "cell_type": "code",
   "execution_count": 194,
   "metadata": {},
   "outputs": [
    {
     "name": "stdout",
     "output_type": "stream",
     "text": [
      "Importing Sleep Quality Data for: Student 2\n",
      "16428\n",
      "\tNumber of datapoints: 631\n",
      "Importing Sleep Quality Data for: Student 3\n",
      "7736\n",
      "\tNumber of datapoints: 730\n",
      "Importing Sleep Quality Data for: Student 4\n",
      "16999\n",
      "\tNumber of datapoints: 3986\n",
      "Importing Sleep Quality Data for: Student 5\n",
      "\tNo data from this deployment range\n",
      "Importing Sleep Quality Data for: Student 6\n",
      "\tNo data from this deployment range\n",
      "Importing Sleep Quality Data for: Student 7\n",
      "\tNo data from this deployment range\n",
      "Importing Sleep Quality Data for: Student 8\n",
      "17777\n",
      "\tNumber of datapoints: 3992\n",
      "Importing Sleep Quality Data for: Student 9\n",
      "\tNo data from this deployment range\n"
     ]
    }
   ],
   "source": [
    "SS_byInd = pd.Series()\n",
    "PSQ_byInd = pd.Series()\n",
    "for n in student_list:\n",
    "    print('Importing Sleep Quality Data for: Student',n)\n",
    "    SS_byInd['Student' + str(n)] = fitbitImport(str(n),'S' + str(n) + '_SleepStages.csv',['Time','ShortWakes','Stage_Label'],[1,3,4],start_date,end_date)"
   ]
  },
  {
   "cell_type": "markdown",
   "metadata": {
    "collapsed": true
   },
   "source": [
    "## Single Variable Data Visualization\n",
    "Below are visualizations that incorporate one variable.\n",
    "\n",
    "### PM2.5\n",
    "There are three main PM2.5 Concentration figures:\n",
    "1. Time Series showing daily PM2.5 concentrations in their home\n",
    "2. Time Series showing daily AQI for PM2.5 in their home\n",
    "3. Bar Chart showing daily median concentrations in their home"
   ]
  },
  {
   "cell_type": "markdown",
   "metadata": {},
   "source": [
    "#### PM2.5 Concentration Profile"
   ]
  },
  {
   "cell_type": "code",
   "execution_count": 187,
   "metadata": {
    "scrolled": false
   },
   "outputs": [],
   "source": [
    "# Data Visualization Module\n",
    "%run ./Module_DataVisualization.ipynb\n",
    "\n",
    "# Looping through all the imported data\n",
    "for name in Concentration_byStudent.index:\n",
    "    ## Created new columns in the dataframe that store the month and date\n",
    "    Concentration_byStudent[name]['Month'] = Concentration_byStudent[name].index.month        \n",
    "    Concentration_byStudent[name]['Day'] = Concentration_byStudent[name].index.day\n",
    "    ## Splitting the dataframe by the month and day to get a dataframe per day\n",
    "    agg = Concentration_byStudent[name].groupby(['Month','Day'])\n",
    "    Median_byInd = agg.median()\n",
    "    \n",
    "    ## Looping through the individual's days of data and plotting\n",
    "    index = 0\n",
    "    for group in agg:\n",
    "        ### Converting the group into a dataframe\n",
    "        group = pd.DataFrame(data=group[1])\n",
    "        ### Plotting Concentration profile\n",
    "        #getFinePMTimeSeries(group.index,group['PM2.5'],'Concentration ($\\mu$g/m$^3$)',index+1)\n",
    "        ### Plotting AQI profile\n",
    "        #getFinePMTimeSeries(group.index,getAQI(group['PM2.5']),'Air Quality Index',index+1)\n",
    "        index += 1"
   ]
  },
  {
   "cell_type": "markdown",
   "metadata": {},
   "source": [
    "### Sleep Stages/Quality"
   ]
  },
  {
   "cell_type": "code",
   "execution_count": 195,
   "metadata": {
    "scrolled": false
   },
   "outputs": [
    {
     "name": "stdout",
     "output_type": "stream",
     "text": [
      "Student2\n",
      "Student3\n",
      "Student4\n",
      "Student8\n"
     ]
    },
    {
     "data": {
      "image/png": "[encoded data removed]",
      "text/plain": [
       "<Figure size 1152x576 with 1 Axes>"
      ]
     },
     "metadata": {},
     "output_type": "display_data"
    },
    {
     "data": {
      "image/png": "[encoded data removed]",
      "text/plain": [
       "<Figure size 1152x576 with 1 Axes>"
      ]
     },
     "metadata": {},
     "output_type": "display_data"
    },
    {
     "data": {
      "image/png": "[encoded data removed]",
      "text/plain": [
       "<Figure size 1152x576 with 1 Axes>"
      ]
     },
     "metadata": {},
     "output_type": "display_data"
    },
    {
     "data": {
      "image/png": "[encoded data removed]",
      "text/plain": [
       "<Figure size 1152x576 with 1 Axes>"
      ]
     },
     "metadata": {},
     "output_type": "display_data"
    }
   ],
   "source": [
    "# Data Derivatives Module\n",
    "%run ./Module_DataDerivatives.ipynb\n",
    "\n",
    "# Data Visualization Module\n",
    "%run ./Module_DataVisualization.ipynb\n",
    "\n",
    "#print(SS_byInd[0])\n",
    "SE_byInd = pd.Series()\n",
    "for name in SS_byInd.index:\n",
    "    if len(SS_byInd[name]) > 0:\n",
    "        print(name)\n",
    "        SE_byInd[name] = getSleepEfficiency(SS_byInd[name])\n",
    "        getSleepStagePercentages(SE_byInd[name])\n",
    "        #print(SE_byInd[name].head())"
   ]
  },
  {
   "cell_type": "code",
   "execution_count": 189,
   "metadata": {
    "scrolled": false
   },
   "outputs": [
    {
     "ename": "KeyError",
     "evalue": "'Stage_Label'",
     "output_type": "error",
     "traceback": [
      "\u001b[0;31m---------------------------------------------------------------------------\u001b[0m",
      "\u001b[0;31mKeyError\u001b[0m                                  Traceback (most recent call last)",
      "\u001b[0;32m/anaconda3/lib/python3.6/site-packages/pandas/core/indexes/base.py\u001b[0m in \u001b[0;36mget_loc\u001b[0;34m(self, key, method, tolerance)\u001b[0m\n\u001b[1;32m   2655\u001b[0m             \u001b[0;32mtry\u001b[0m\u001b[0;34m:\u001b[0m\u001b[0;34m\u001b[0m\u001b[0;34m\u001b[0m\u001b[0m\n\u001b[0;32m-> 2656\u001b[0;31m                 \u001b[0;32mreturn\u001b[0m \u001b[0mself\u001b[0m\u001b[0;34m.\u001b[0m\u001b[0m_engine\u001b[0m\u001b[0;34m.\u001b[0m\u001b[0mget_loc\u001b[0m\u001b[0;34m(\u001b[0m\u001b[0mkey\u001b[0m\u001b[0;34m)\u001b[0m\u001b[0;34m\u001b[0m\u001b[0;34m\u001b[0m\u001b[0m\n\u001b[0m\u001b[1;32m   2657\u001b[0m             \u001b[0;32mexcept\u001b[0m \u001b[0mKeyError\u001b[0m\u001b[0;34m:\u001b[0m\u001b[0;34m\u001b[0m\u001b[0;34m\u001b[0m\u001b[0m\n",
      "\u001b[0;32mpandas/_libs/index.pyx\u001b[0m in \u001b[0;36mpandas._libs.index.IndexEngine.get_loc\u001b[0;34m()\u001b[0m\n",
      "\u001b[0;32mpandas/_libs/index.pyx\u001b[0m in \u001b[0;36mpandas._libs.index.IndexEngine.get_loc\u001b[0;34m()\u001b[0m\n",
      "\u001b[0;32mpandas/_libs/hashtable_class_helper.pxi\u001b[0m in \u001b[0;36mpandas._libs.hashtable.PyObjectHashTable.get_item\u001b[0;34m()\u001b[0m\n",
      "\u001b[0;32mpandas/_libs/hashtable_class_helper.pxi\u001b[0m in \u001b[0;36mpandas._libs.hashtable.PyObjectHashTable.get_item\u001b[0;34m()\u001b[0m\n",
      "\u001b[0;31mKeyError\u001b[0m: 'Stage_Label'",
      "\nDuring handling of the above exception, another exception occurred:\n",
      "\u001b[0;31mKeyError\u001b[0m                                  Traceback (most recent call last)",
      "\u001b[0;32m<ipython-input-189-357a81dd6c30>\u001b[0m in \u001b[0;36m<module>\u001b[0;34m()\u001b[0m\n\u001b[1;32m      2\u001b[0m \u001b[0;34m\u001b[0m\u001b[0m\n\u001b[1;32m      3\u001b[0m \u001b[0;31m# Re-formatting Sleep Stages dataframe\u001b[0m\u001b[0;34m\u001b[0m\u001b[0;34m\u001b[0m\u001b[0;34m\u001b[0m\u001b[0m\n\u001b[0;32m----> 4\u001b[0;31m \u001b[0mstages\u001b[0m \u001b[0;34m=\u001b[0m \u001b[0mSS_byInd\u001b[0m\u001b[0;34m[\u001b[0m\u001b[0mname\u001b[0m\u001b[0;34m]\u001b[0m\u001b[0;34m[\u001b[0m\u001b[0;34m'Stage_Label'\u001b[0m\u001b[0;34m]\u001b[0m\u001b[0;34m\u001b[0m\u001b[0;34m\u001b[0m\u001b[0m\n\u001b[0m\u001b[1;32m      5\u001b[0m \u001b[0mtimes\u001b[0m \u001b[0;34m=\u001b[0m \u001b[0mSS_byInd\u001b[0m\u001b[0;34m[\u001b[0m\u001b[0mname\u001b[0m\u001b[0;34m]\u001b[0m\u001b[0;34m.\u001b[0m\u001b[0mindex\u001b[0m\u001b[0;34m\u001b[0m\u001b[0;34m\u001b[0m\u001b[0m\n\u001b[1;32m      6\u001b[0m \u001b[0mlocs\u001b[0m \u001b[0;34m=\u001b[0m \u001b[0;34m[\u001b[0m\u001b[0;34m]\u001b[0m\u001b[0;34m\u001b[0m\u001b[0;34m\u001b[0m\u001b[0m\n",
      "\u001b[0;32m/anaconda3/lib/python3.6/site-packages/pandas/core/frame.py\u001b[0m in \u001b[0;36m__getitem__\u001b[0;34m(self, key)\u001b[0m\n\u001b[1;32m   2925\u001b[0m             \u001b[0;32mif\u001b[0m \u001b[0mself\u001b[0m\u001b[0;34m.\u001b[0m\u001b[0mcolumns\u001b[0m\u001b[0;34m.\u001b[0m\u001b[0mnlevels\u001b[0m \u001b[0;34m>\u001b[0m \u001b[0;36m1\u001b[0m\u001b[0;34m:\u001b[0m\u001b[0;34m\u001b[0m\u001b[0;34m\u001b[0m\u001b[0m\n\u001b[1;32m   2926\u001b[0m                 \u001b[0;32mreturn\u001b[0m \u001b[0mself\u001b[0m\u001b[0;34m.\u001b[0m\u001b[0m_getitem_multilevel\u001b[0m\u001b[0;34m(\u001b[0m\u001b[0mkey\u001b[0m\u001b[0;34m)\u001b[0m\u001b[0;34m\u001b[0m\u001b[0;34m\u001b[0m\u001b[0m\n\u001b[0;32m-> 2927\u001b[0;31m             \u001b[0mindexer\u001b[0m \u001b[0;34m=\u001b[0m \u001b[0mself\u001b[0m\u001b[0;34m.\u001b[0m\u001b[0mcolumns\u001b[0m\u001b[0;34m.\u001b[0m\u001b[0mget_loc\u001b[0m\u001b[0;34m(\u001b[0m\u001b[0mkey\u001b[0m\u001b[0;34m)\u001b[0m\u001b[0;34m\u001b[0m\u001b[0;34m\u001b[0m\u001b[0m\n\u001b[0m\u001b[1;32m   2928\u001b[0m             \u001b[0;32mif\u001b[0m \u001b[0mis_integer\u001b[0m\u001b[0;34m(\u001b[0m\u001b[0mindexer\u001b[0m\u001b[0;34m)\u001b[0m\u001b[0;34m:\u001b[0m\u001b[0;34m\u001b[0m\u001b[0;34m\u001b[0m\u001b[0m\n\u001b[1;32m   2929\u001b[0m                 \u001b[0mindexer\u001b[0m \u001b[0;34m=\u001b[0m \u001b[0;34m[\u001b[0m\u001b[0mindexer\u001b[0m\u001b[0;34m]\u001b[0m\u001b[0;34m\u001b[0m\u001b[0;34m\u001b[0m\u001b[0m\n",
      "\u001b[0;32m/anaconda3/lib/python3.6/site-packages/pandas/core/indexes/base.py\u001b[0m in \u001b[0;36mget_loc\u001b[0;34m(self, key, method, tolerance)\u001b[0m\n\u001b[1;32m   2656\u001b[0m                 \u001b[0;32mreturn\u001b[0m \u001b[0mself\u001b[0m\u001b[0;34m.\u001b[0m\u001b[0m_engine\u001b[0m\u001b[0;34m.\u001b[0m\u001b[0mget_loc\u001b[0m\u001b[0;34m(\u001b[0m\u001b[0mkey\u001b[0m\u001b[0;34m)\u001b[0m\u001b[0;34m\u001b[0m\u001b[0;34m\u001b[0m\u001b[0m\n\u001b[1;32m   2657\u001b[0m             \u001b[0;32mexcept\u001b[0m \u001b[0mKeyError\u001b[0m\u001b[0;34m:\u001b[0m\u001b[0;34m\u001b[0m\u001b[0;34m\u001b[0m\u001b[0m\n\u001b[0;32m-> 2658\u001b[0;31m                 \u001b[0;32mreturn\u001b[0m \u001b[0mself\u001b[0m\u001b[0;34m.\u001b[0m\u001b[0m_engine\u001b[0m\u001b[0;34m.\u001b[0m\u001b[0mget_loc\u001b[0m\u001b[0;34m(\u001b[0m\u001b[0mself\u001b[0m\u001b[0;34m.\u001b[0m\u001b[0m_maybe_cast_indexer\u001b[0m\u001b[0;34m(\u001b[0m\u001b[0mkey\u001b[0m\u001b[0;34m)\u001b[0m\u001b[0;34m)\u001b[0m\u001b[0;34m\u001b[0m\u001b[0;34m\u001b[0m\u001b[0m\n\u001b[0m\u001b[1;32m   2659\u001b[0m         \u001b[0mindexer\u001b[0m \u001b[0;34m=\u001b[0m \u001b[0mself\u001b[0m\u001b[0;34m.\u001b[0m\u001b[0mget_indexer\u001b[0m\u001b[0;34m(\u001b[0m\u001b[0;34m[\u001b[0m\u001b[0mkey\u001b[0m\u001b[0;34m]\u001b[0m\u001b[0;34m,\u001b[0m \u001b[0mmethod\u001b[0m\u001b[0;34m=\u001b[0m\u001b[0mmethod\u001b[0m\u001b[0;34m,\u001b[0m \u001b[0mtolerance\u001b[0m\u001b[0;34m=\u001b[0m\u001b[0mtolerance\u001b[0m\u001b[0;34m)\u001b[0m\u001b[0;34m\u001b[0m\u001b[0;34m\u001b[0m\u001b[0m\n\u001b[1;32m   2660\u001b[0m         \u001b[0;32mif\u001b[0m \u001b[0mindexer\u001b[0m\u001b[0;34m.\u001b[0m\u001b[0mndim\u001b[0m \u001b[0;34m>\u001b[0m \u001b[0;36m1\u001b[0m \u001b[0;32mor\u001b[0m \u001b[0mindexer\u001b[0m\u001b[0;34m.\u001b[0m\u001b[0msize\u001b[0m \u001b[0;34m>\u001b[0m \u001b[0;36m1\u001b[0m\u001b[0;34m:\u001b[0m\u001b[0;34m\u001b[0m\u001b[0;34m\u001b[0m\u001b[0m\n",
      "\u001b[0;32mpandas/_libs/index.pyx\u001b[0m in \u001b[0;36mpandas._libs.index.IndexEngine.get_loc\u001b[0;34m()\u001b[0m\n",
      "\u001b[0;32mpandas/_libs/index.pyx\u001b[0m in \u001b[0;36mpandas._libs.index.IndexEngine.get_loc\u001b[0;34m()\u001b[0m\n",
      "\u001b[0;32mpandas/_libs/hashtable_class_helper.pxi\u001b[0m in \u001b[0;36mpandas._libs.hashtable.PyObjectHashTable.get_item\u001b[0;34m()\u001b[0m\n",
      "\u001b[0;32mpandas/_libs/hashtable_class_helper.pxi\u001b[0m in \u001b[0;36mpandas._libs.hashtable.PyObjectHashTable.get_item\u001b[0;34m()\u001b[0m\n",
      "\u001b[0;31mKeyError\u001b[0m: 'Stage_Label'"
     ]
    }
   ],
   "source": [
    "\n",
    "\n",
    "# Re-formatting Sleep Stages dataframe\n",
    "stages = SS_byInd[name]['Stage_Label']\n",
    "times = SS_byInd[name].index\n",
    "locs = []\n",
    "for i in range(len(SS_byInd[name])-1):\n",
    "    # Parsing out the days by looking for timesteps greater than 5 minutes\n",
    "    if SS_byInd[name].index[i+1]-SS_byInd[name].index[i] > timedelta(seconds = 300):\n",
    "        locs.append(i+1)\n",
    "\n",
    "stages_byDay = np.split(stages,locs)\n",
    "times_byDay = np.split(times,locs)\n",
    "#times_byID[name] = times_byDay\n",
    "\n",
    "#print(stages_byDay[1])"
   ]
  },
  {
   "cell_type": "code",
   "execution_count": null,
   "metadata": {
    "scrolled": true
   },
   "outputs": [],
   "source": [
    "    temp = pd.Series()\n",
    "    fig, ax1 = plt.subplots(figsize=(10,6))\n",
    "    # Counting the number of 30-second values for each sleep stage\n",
    "    for j in range(len(stages_byDay)):\n",
    "        wake = 0\n",
    "        light = 0\n",
    "        rem = 0\n",
    "        deep = 0\n",
    "        for k in range(len(stages_byDay[j])):\n",
    "            if stages_byDay[j][k] == 3:\n",
    "                wake += 1\n",
    "            elif stages_byDay[j][k] == 2:\n",
    "                rem += 1\n",
    "            elif stages_byDay[j][k] == 1:\n",
    "                light += 1\n",
    "            else:\n",
    "                deep += 1\n",
    "\n",
    "        # Converting the count measurement to number of hours\n",
    "        rest = (((wake + rem + light + deep) * 30 ) / 60 ) /60\n",
    "        wake_hr = (wake * 30) / 60 / 60\n",
    "        rem_hr = (rem * 30) / 60 / 60\n",
    "        light_hr = (light * 30) /60 / 60\n",
    "        deep_hr = (deep * 30) / 60 / 60\n",
    "\n",
    "        # Sleep Stages - Stacked Bar Chart\n",
    "        # Using an if-block to make sure the legend doesn't repeat for each day\n",
    "        if j == len(stages_byDay)-1:\n",
    "            p5 = ax1.bar('N' + str(j+1) + ': ' + str(times_byDay[j][0])[5:7]+'/'+str(times_byDay[j][0])[8:10],wake_hr, bottom=deep_hr+light_hr+rem_hr, color='pink',edgecolor='k',label='Wake')\n",
    "            p6 = ax1.bar('N' + str(j+1) + ': ' + str(times_byDay[j][0])[5:7]+'/'+str(times_byDay[j][0])[8:10],rem_hr,bottom=deep_hr+light_hr,color='c',edgecolor='k',label='REM')\n",
    "            p7 = ax1.bar('N' + str(j+1) + ': ' + str(times_byDay[j][0])[5:7]+'/'+str(times_byDay[j][0])[8:10],light_hr,bottom=deep_hr,color='b',edgecolor='k',label='Light')\n",
    "            p8 = ax1.bar('N' + str(j+1) + ': ' + str(times_byDay[j][0])[5:7]+'/'+str(times_byDay[j][0])[8:10],deep_hr,color='navy',edgecolor='k',label='Deep')\n",
    "        else:\n",
    "            p5 = ax1.bar('N' + str(j+1) + ': ' + str(times_byDay[j][0])[5:7]+'/'+str(times_byDay[j][0])[8:10], wake_hr, bottom=deep_hr+light_hr+rem_hr, color='pink',edgecolor='k')\n",
    "            p6 = ax1.bar('N' + str(j+1) + ': ' + str(times_byDay[j][0])[5:7]+'/'+str(times_byDay[j][0])[8:10],rem_hr,bottom=deep_hr+light_hr,color='c',edgecolor='k')\n",
    "            p7 = ax1.bar('N' + str(j+1) + ': ' + str(times_byDay[j][0])[5:7]+'/'+str(times_byDay[j][0])[8:10],light_hr,bottom=deep_hr,color='b',edgecolor='k')\n",
    "            p8 = ax1.bar('N' + str(j+1) + ': ' + str(times_byDay[j][0])[5:7]+'/'+str(times_byDay[j][0])[8:10],deep_hr,color='navy',edgecolor='k')\n",
    "\n",
    "        # Formatting x-axis\n",
    "        ax1.set_xlabel('Date')\n",
    "        ax1.xaxis.set_tick_params(rotation=-30)\n",
    "\n",
    "        # Formatting y-axis\n",
    "        ax1.set_yticks([0,2,4,6,8,10,12])\n",
    "        ax1.set_ylabel('Number of Hours Spent at Sleep Stage')\n",
    "        plt.legend((p5[0],p6[0],p7[0],p8[0]), ('Wake','REM','Light','Deep'))"
   ]
  },
  {
   "cell_type": "code",
   "execution_count": null,
   "metadata": {},
   "outputs": [],
   "source": []
  }
 ],
 "metadata": {
  "kernelspec": {
   "display_name": "Python 3",
   "language": "python",
   "name": "python3"
  },
  "language_info": {
   "codemirror_mode": {
    "name": "ipython",
    "version": 3
   },
   "file_extension": ".py",
   "mimetype": "text/x-python",
   "name": "python",
   "nbconvert_exporter": "python",
   "pygments_lexer": "ipython3",
   "version": "3.6.8"
  }
 },
 "nbformat": 4,
 "nbformat_minor": 2
}
