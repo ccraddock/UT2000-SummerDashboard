{
 "cells": [
  {
   "cell_type": "code",
   "execution_count": 50,
   "metadata": {},
   "outputs": [],
   "source": [
    "# Common Imports\n",
    "import numpy as np\n",
    "import pandas as pd\n",
    "from datetime import datetime, timedelta, date\n",
    "import os\n",
    "import matplotlib as mpl\n",
    "import matplotlib.pyplot as plt\n",
    "\n",
    "# Data Import Module\n",
    "%run ./Module_DataImport.ipynb"
   ]
  },
  {
   "cell_type": "markdown",
   "metadata": {},
   "source": [
    "## Deployment Information\n",
    "In the code cell are variables that can be tuned based on the deployment, they are described in more detail below:\n",
    "- student_list: a integer list of the students included in this study. Valid student numbers are between 2 and 9, inclusive.\n",
    "- start_date: the first date that you would like to include in the summary. The earliest date that can be chosen that will ensure at least one student has data is 03/11/2019.\n",
    "- end_date: the last date to include in the summary. No more data are available after 04/15/2019.\n",
    "\n",
    "The start and end dates are defaulted to the earliest and latest dates, respectively, given in the description above. "
   ]
  },
  {
   "cell_type": "code",
   "execution_count": 42,
   "metadata": {},
   "outputs": [
    {
     "name": "stdout",
     "output_type": "stream",
     "text": [
      "0\n"
     ]
    }
   ],
   "source": [
    "student_list = np.arange(2,10,1)\n",
    "start_date = '04/01/2019'\n",
    "end_date = '04/01/2019'\n",
    "time_diff = datetime.strptime(end_date, '%m/%d/%Y') - datetime.strptime(start_date, '%m/%d/%Y')\n",
    "num_hours = int(divmod(time_diff.total_seconds(),3600)[0])\n",
    "print(num_hours)"
   ]
  },
  {
   "cell_type": "markdown",
   "metadata": {},
   "source": [
    "## Data Import\n",
    "\n",
    "### Indoor Environmental Quality Data\n",
    "In the code cell below, the indoor environmental quality data is imported from the ```beacon_data``` directory available for Students 2 through 9. The variables include:\n",
    "1. Temperature\n",
    "2. Relative Humidity$^1$\n",
    "3. PM2.5\n",
    "\n",
    "The functions for importing the data are stored in the ```Module_DataImport.pynb``` notebook in the same directory as this master notebook. \n",
    "\n",
    "$^1$Temperature and Relative Humidity are imported together and stored in the same dataframe. Collectively, they are referred to as \"thermal comfort\""
   ]
  },
  {
   "cell_type": "code",
   "execution_count": 51,
   "metadata": {},
   "outputs": [
    {
     "name": "stdout",
     "output_type": "stream",
     "text": [
      "\n",
      "Importing IEQ Data for: Student 2\n",
      "\n",
      "Importing Thermal Comfort Data...\n",
      "here\n",
      "0\n",
      "\tNo data from this deployment range\n",
      "\tImport Complete\n",
      "\n",
      "Importing PM2.5 Concentration Data...\n",
      "here\n",
      "0\n",
      "\tNo data from this deployment range\n",
      "\tImport Complete\n",
      "\n",
      "Importing IEQ Data for: Student 3\n",
      "\n",
      "Importing Thermal Comfort Data...\n",
      "here\n",
      "287\n",
      "\tNumber of datapoints: 287\n",
      "\tImport Complete\n",
      "\n",
      "Importing PM2.5 Concentration Data...\n",
      "here\n",
      "0\n",
      "\tNo data from this deployment range\n",
      "\tImport Complete\n",
      "\n",
      "Importing IEQ Data for: Student 4\n",
      "\n",
      "Importing Thermal Comfort Data...\n",
      "here\n",
      "287\n",
      "\tNumber of datapoints: 287\n",
      "\tImport Complete\n",
      "\n",
      "Importing PM2.5 Concentration Data...\n",
      "here\n",
      "0\n",
      "\tNo data from this deployment range\n",
      "\tImport Complete\n",
      "\n",
      "Importing IEQ Data for: Student 5\n",
      "\n",
      "Importing Thermal Comfort Data...\n",
      "here\n",
      "287\n",
      "\tNumber of datapoints: 287\n",
      "\tImport Complete\n",
      "\n",
      "Importing PM2.5 Concentration Data...\n",
      "here\n",
      "0\n",
      "\tNo data from this deployment range\n",
      "\tImport Complete\n",
      "\n",
      "Importing IEQ Data for: Student 6\n",
      "\n",
      "Importing Thermal Comfort Data...\n",
      "here\n",
      "287\n",
      "\tNumber of datapoints: 287\n",
      "\tImport Complete\n",
      "\n",
      "Importing PM2.5 Concentration Data...\n",
      "here\n",
      "225\n",
      "\tNumber of datapoints: 225\n",
      "\tImport Complete\n",
      "\n",
      "Importing IEQ Data for: Student 7\n",
      "\n",
      "Importing Thermal Comfort Data...\n",
      "here\n",
      "287\n",
      "\tNumber of datapoints: 287\n",
      "\tImport Complete\n",
      "\n",
      "Importing PM2.5 Concentration Data...\n",
      "here\n",
      "226\n",
      "\tNumber of datapoints: 226\n",
      "\tImport Complete\n",
      "\n",
      "Importing IEQ Data for: Student 8\n",
      "\n",
      "Importing Thermal Comfort Data...\n",
      "here\n",
      "287\n",
      "\tNumber of datapoints: 287\n",
      "\tImport Complete\n",
      "\n",
      "Importing PM2.5 Concentration Data...\n",
      "here\n",
      "226\n",
      "\tNumber of datapoints: 226\n",
      "\tImport Complete\n",
      "\n",
      "Importing IEQ Data for: Student 9\n",
      "\n",
      "Importing Thermal Comfort Data...\n",
      "here\n",
      "287\n",
      "\tNumber of datapoints: 287\n",
      "\tImport Complete\n",
      "\n",
      "Importing PM2.5 Concentration Data...\n",
      "here\n",
      "226\n",
      "\tNumber of datapoints: 226\n",
      "\tImport Complete\n"
     ]
    }
   ],
   "source": [
    "TC_byStudent = pd.Series()\n",
    "Concentration_byStudent = pd.Series()\n",
    "for n in student_list:\n",
    "    print()\n",
    "    print('Importing IEQ Data for: Student',n)\n",
    "    print('\\nImporting Thermal Comfort Data...')\n",
    "    TC_temp = ieqImport(str(n),'sht31d',['time','rh','temp'],'all',start_date,end_date)\n",
    "    if len(TC_temp) < 5*num_hours: # We should get at least 5 data points per hour\n",
    "        print('\\tInsufficient Data - not importing')\n",
    "    else:\n",
    "        TC_byStudent['Student' + str(n)] = TC_temp\n",
    "        print('\\tImport Complete')\n",
    "        \n",
    "    print('\\nImporting PM2.5 Concentration Data...')\n",
    "    Concentration_temp = ieqImport(str(n),'pms5003',['time','PM2.5'],[0,2],start_date,end_date)\n",
    "    if len(Concentration_temp) < 5*num_hours: # We should get at least 5 data points per hour\n",
    "        print('\\tInsufficient Data - not importing')\n",
    "    else:\n",
    "        Concentration_byStudent['Student' + str(n)] = Concentration_temp\n",
    "        print('\\tImport Complete')"
   ]
  },
  {
   "cell_type": "markdown",
   "metadata": {},
   "source": [
    "### Sleep Quality Data\n",
    "There are two types of sleep quality data, gathered from different sources:\n",
    "1. Sleep Stages from Fitbit\n",
    "2. Perceived Sleep Quality from Beiwe EMA Surveys\n",
    "\n",
    "Both datasets are imported below in the code cell."
   ]
  },
  {
   "cell_type": "code",
   "execution_count": 52,
   "metadata": {},
   "outputs": [
    {
     "name": "stdout",
     "output_type": "stream",
     "text": [
      "Importing Sleep Quality Data for: Student 2\n",
      "\tNumber of datapoints: 17059\n",
      "Importing Sleep Quality Data for: Student 3\n",
      "\tNumber of datapoints: 8466\n",
      "Importing Sleep Quality Data for: Student 4\n",
      "\tNumber of datapoints: 21853\n",
      "Importing Sleep Quality Data for: Student 5\n",
      "\tNumber of datapoints: 3080\n",
      "Importing Sleep Quality Data for: Student 6\n",
      "\tNumber of datapoints: 16727\n",
      "Importing Sleep Quality Data for: Student 7\n",
      "\tNumber of datapoints: 12519\n",
      "Importing Sleep Quality Data for: Student 8\n",
      "\tNumber of datapoints: 22820\n",
      "Importing Sleep Quality Data for: Student 9\n",
      "\tNumber of datapoints: 1096\n"
     ]
    }
   ],
   "source": [
    "SS_byStudent = pd.Series()\n",
    "PSQ_byStudent = pd.Series()\n",
    "for n in student_list:\n",
    "    print('Importing Sleep Quality Data for: Student',n)\n",
    "    SS_byStudent['Student' + str(n)] = fitbitImport(str(n),'S' + str(n) + '_SleepStages.csv',['Time','ShortWakes','Stage_Label'],[1,3,4])"
   ]
  },
  {
   "cell_type": "markdown",
   "metadata": {
    "collapsed": true
   },
   "source": [
    "## Single Variable Data Visualization\n",
    "Below are visualizations that incorporate one variable.\n",
    "\n",
    "### PM2.5\n",
    "There are three main PM2.5 Concentration figures:\n",
    "1. Time Series showing daily PM2.5 concentrations in their home\n",
    "2. Time Series showing daily AQI for PM2.5 in their home\n",
    "3. Bar Chart showing daily median concentrations in their home"
   ]
  },
  {
   "cell_type": "markdown",
   "metadata": {},
   "source": [
    "#### PM2.5 Concentration Profile"
   ]
  },
  {
   "cell_type": "code",
   "execution_count": 53,
   "metadata": {},
   "outputs": [
    {
     "name": "stdout",
     "output_type": "stream",
     "text": [
      "Reading for Student6\n"
     ]
    },
    {
     "data": {
      "image/png": "[encoded data removed]",
      "text/plain": [
       "<Figure size 432x288 with 1 Axes>"
      ]
     },
     "metadata": {},
     "output_type": "display_data"
    }
   ],
   "source": [
    "#for name in Concentration_byStudent.index:\n",
    "print('Reading for', name)\n",
    "\n",
    "Concentration_byStudent[name]['mo'] = Concentration_byStudent[name].index.month        \n",
    "Concentration_byStudent[name]['day'] = Concentration_byStudent[name].index.day\n",
    "agg = Concentration_byStudent[name].groupby(['mo','day'])\n",
    "for group in agg:\n",
    "    group = pd.DataFrame(data=group[1])\n",
    "    fig, ax = plt.subplots()\n",
    "    ax.plot(group.index,group['PM2.5'])"
   ]
  },
  {
   "cell_type": "code",
   "execution_count": null,
   "metadata": {},
   "outputs": [],
   "source": []
  }
 ],
 "metadata": {
  "kernelspec": {
   "display_name": "Python 3",
   "language": "python",
   "name": "python3"
  },
  "language_info": {
   "codemirror_mode": {
    "name": "ipython",
    "version": 3
   },
   "file_extension": ".py",
   "mimetype": "text/x-python",
   "name": "python",
   "nbconvert_exporter": "python",
   "pygments_lexer": "ipython3",
   "version": "3.6.8"
  }
 },
 "nbformat": 4,
 "nbformat_minor": 2
}
