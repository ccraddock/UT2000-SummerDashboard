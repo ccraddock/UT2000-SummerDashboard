{
 "cells": [
  {
   "cell_type": "code",
   "execution_count": 49,
   "metadata": {
    "collapsed": true
   },
   "outputs": [],
   "source": [
    "# Common Imports\n",
    "import numpy as np\n",
    "import pandas as pd\n",
    "from datetime import datetime, timedelta, date\n",
    "import os\n",
    "\n",
    "# Data Import Module\n",
    "%run ./Module_DataImport.ipynb"
   ]
  },
  {
   "cell_type": "markdown",
   "metadata": {},
   "source": [
    "## Deployment Information\n",
    "In the code cell are variables that can be tuned based on the deployment, they are described in more detail below:\n",
    "- student_list: a integer list of the students included in this study. Valid student numbers are between 2 and 9, inclusive.\n",
    "- start_date: the first date that you would like to include in the summary. The earliest date that can be chosen that will ensure at least one student has data is 03/11/2019.\n",
    "- end_date: the last date to include in the summary. No more data are available after 04/15/2019.\n",
    "\n",
    "The start and end dates are defaulted to the earliest and latest dates, respectively, given in the description above. "
   ]
  },
  {
   "cell_type": "code",
   "execution_count": 50,
   "metadata": {
    "collapsed": true
   },
   "outputs": [],
   "source": [
    "student_list = np.arange(2,10,1)\n",
    "start_date = '03/11/2019'\n",
    "end_date = '04/15/2019'"
   ]
  },
  {
   "cell_type": "markdown",
   "metadata": {},
   "source": [
    "## Data Import\n",
    "\n",
    "### Indoor Environmental Quality Data\n",
    "In the code cell below, the indoor environmental quality data is imported from the ```beacon_data``` directory available for Students 2 through 9. The variables include:\n",
    "1. Temperature\n",
    "2. Relative Humidity$^1$\n",
    "3. PM2.5\n",
    "\n",
    "The functions for importing the data are stored in the ```Module_DataImport.pynb``` notebook in the same directory as this master notebook. \n",
    "\n",
    "$^1$Temperature and Relative Humidity are imported together and stored in the same dataframe. Collectively, they are referred to as \"thermal comfort\""
   ]
  },
  {
   "cell_type": "code",
   "execution_count": 51,
   "metadata": {},
   "outputs": [
    {
     "name": "stdout",
     "output_type": "stream",
     "text": [
      "Importing IEQ Data for: Student 2\n",
      "Number of datapoints: 205\n",
      "Number of datapoints: 1\n",
      "Importing IEQ Data for: Student 3\n",
      "Number of datapoints: 7832\n",
      "Number of datapoints: 102\n",
      "Importing IEQ Data for: Student 4\n",
      "Number of datapoints: 9780\n",
      "Number of datapoints: 111\n",
      "Importing IEQ Data for: Student 5\n",
      "Number of datapoints: 6512\n",
      "Number of datapoints: 13\n",
      "Importing IEQ Data for: Student 6\n",
      "Number of datapoints: 9231\n",
      "Number of datapoints: 7249\n",
      "Importing IEQ Data for: Student 7\n",
      "Number of datapoints: 9629\n",
      "Number of datapoints: 7564\n",
      "Importing IEQ Data for: Student 8\n",
      "Number of datapoints: 7390\n",
      "Number of datapoints: 3749\n",
      "Importing IEQ Data for: Student 9\n",
      "Number of datapoints: 9775\n",
      "Number of datapoints: 7679\n"
     ]
    }
   ],
   "source": [
    "TC_byStudent = pd.Series()\n",
    "Concentration_byStudent = pd.Series()\n",
    "for n in student_list:\n",
    "    print('Importing IEQ Data for: Student',n)\n",
    "    TC_byStudent['Student' + str(n)] = ieqImport(str(n),'sht31d',['time','rh','temp'])\n",
    "    Concentration_byStudent['Student' + str(n)] = ieqImport(str(n),'pms5003',['time','PM2.5'],[0,2])"
   ]
  },
  {
   "cell_type": "markdown",
   "metadata": {},
   "source": [
    "### Sleep Quality Data\n",
    "There are two types of sleep quality data, gathered from different sources:\n",
    "1. Sleep Stages from Fitbit\n",
    "2. Perceived Sleep Quality from Beiwe EMA Surveys\n",
    "\n",
    "Both datasets are imported below in the code cell."
   ]
  },
  {
   "cell_type": "code",
   "execution_count": 52,
   "metadata": {},
   "outputs": [
    {
     "name": "stdout",
     "output_type": "stream",
     "text": [
      "Importing Sleep Quality Data for: Student 2\n",
      "Number of datapoints: 17059\n",
      "Importing Sleep Quality Data for: Student 3\n",
      "Number of datapoints: 8466\n",
      "Importing Sleep Quality Data for: Student 4\n",
      "Number of datapoints: 21853\n",
      "Importing Sleep Quality Data for: Student 5\n",
      "Number of datapoints: 3080\n",
      "Importing Sleep Quality Data for: Student 6\n",
      "Number of datapoints: 16727\n",
      "Importing Sleep Quality Data for: Student 7\n",
      "Number of datapoints: 12519\n",
      "Importing Sleep Quality Data for: Student 8\n",
      "Number of datapoints: 22820\n",
      "Importing Sleep Quality Data for: Student 9\n",
      "Number of datapoints: 1096\n"
     ]
    }
   ],
   "source": [
    "SS_byStudent = pd.Series()\n",
    "PSQ_byStudent = pd.Series()\n",
    "for n in student_list:\n",
    "    print('Importing Sleep Quality Data for: Student',n)\n",
    "    SS_byStudent['Student' + str(n)] = fitbitImport(str(n),'S' + str(n) + '_SleepStages.csv',['Time','ShortWakes','Stage_Label'],[1,3,4])\n",
    "    "
   ]
  },
  {
   "cell_type": "code",
   "execution_count": null,
   "metadata": {
    "collapsed": true
   },
   "outputs": [],
   "source": []
  }
 ],
 "metadata": {
  "kernelspec": {
   "display_name": "Python 3",
   "language": "python",
   "name": "python3"
  },
  "language_info": {
   "codemirror_mode": {
    "name": "ipython",
    "version": 3
   },
   "file_extension": ".py",
   "mimetype": "text/x-python",
   "name": "python",
   "nbconvert_exporter": "python",
   "pygments_lexer": "ipython3",
   "version": "3.6.1"
  }
 },
 "nbformat": 4,
 "nbformat_minor": 2
}
